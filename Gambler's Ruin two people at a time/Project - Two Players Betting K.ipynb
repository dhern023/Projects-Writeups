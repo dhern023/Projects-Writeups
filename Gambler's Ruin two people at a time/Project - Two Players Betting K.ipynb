{
 "cells": [
  {
   "cell_type": "code",
   "execution_count": 3,
   "metadata": {},
   "outputs": [],
   "source": [
    "#simulation for two players at a time\n",
    "\n",
    "import random"
   ]
  },
  {
   "cell_type": "code",
   "execution_count": 9,
   "metadata": {},
   "outputs": [
    {
     "name": "stdout",
     "output_type": "stream",
     "text": [
      "1024.5361\n"
     ]
    }
   ],
   "source": [
    "'''changes the bet each time (most realistic)'''\n",
    "\n",
    "#p players\n",
    "p = 7\n",
    "#d dollars\n",
    "d = 7\n",
    "Counts = []\n",
    "num_iterations = 100000\n",
    "for i in range(num_iterations):\n",
    "    count = 0\n",
    "    L = [d]*p\n",
    "    while len(L)>1:\n",
    "        #pick two poeple to play from the list\n",
    "        L2 = [L.pop(random.randrange(len(L))) for _ in range(2)]\n",
    "        #record where those two people are\n",
    "        k = random.randint(1,min(L2))\n",
    "        #both players put some money in the pot (bet)\n",
    "        for i in range(len(L2)):\n",
    "            L2[i] = L2[i] - k\n",
    "        #pick a random person to win\n",
    "        index = random.choice(range(len(L2)))\n",
    "        #winner collects his earnings\n",
    "        L2[index] = L2[index] + 2*k\n",
    "        #put those players back in\n",
    "        L = L + L2\n",
    "        #zero out this mofo\n",
    "        while 0 in L:\n",
    "            del L[L.index(0)]\n",
    "        #counts the number of rounds\n",
    "        count = count + 1\n",
    "    Counts.append(count)\n",
    "#prints the average\n",
    "print(sum(Counts)/len(Counts))"
   ]
  },
  {
   "cell_type": "code",
   "execution_count": 11,
   "metadata": {},
   "outputs": [
    {
     "data": {
      "text/plain": [
       "5305"
      ]
     },
     "execution_count": 11,
     "metadata": {},
     "output_type": "execute_result"
    }
   ],
   "source": [
    "max(Counts)"
   ]
  },
  {
   "cell_type": "code",
   "execution_count": 10,
   "metadata": {},
   "outputs": [
    {
     "name": "stdout",
     "output_type": "stream",
     "text": [
      "1024.5361\n"
     ]
    }
   ],
   "source": [
    "'''fixes the bet for all games'''\n",
    "\n",
    "#p players\n",
    "p = 7\n",
    "#d dollars\n",
    "d = 77\n",
    "#fixes the bet for all games\n",
    "k = 11\n",
    "Counts = []\n",
    "num_iterations = 10000\n",
    "for i in range(num_iterations):\n",
    "    count = 0\n",
    "    L = [d]*p\n",
    "    while len(L)>1:\n",
    "        #pick two poeple to play from the list\n",
    "        L2 = [L.pop(random.randrange(len(L))) for _ in range(2)]\n",
    "        #record where those two people are\n",
    "        #both players put some money in the pot (bet)\n",
    "        for i in range(len(L2)):\n",
    "            L2[i] = L2[i] - k\n",
    "        #pick a random person to win\n",
    "        index = random.choice(range(len(L2)))\n",
    "        #winner collects his earnings\n",
    "        L2[index] = L2[index] + 2*k\n",
    "        #put those players back in\n",
    "        L = L + L2\n",
    "        #zero out this mofo\n",
    "        while 0 in L:\n",
    "            del L[L.index(0)]\n",
    "        #counts the number of rounds\n",
    "        count = count + 1\n",
    "    Counts.append(count)\n",
    "#prints the average\n",
    "print(sum(Counts)/len(Counts))"
   ]
  },
  {
   "cell_type": "code",
   "execution_count": 12,
   "metadata": {},
   "outputs": [
    {
     "data": {
      "text/plain": [
       "5305"
      ]
     },
     "execution_count": 12,
     "metadata": {},
     "output_type": "execute_result"
    }
   ],
   "source": [
    "max(Counts)"
   ]
  },
  {
   "cell_type": "code",
   "execution_count": 51,
   "metadata": {},
   "outputs": [
    {
     "name": "stdout",
     "output_type": "stream",
     "text": [
      "<enumerate object at 0x0000000005224900>\n"
     ]
    }
   ],
   "source": [
    "print(enumerate(L2))"
   ]
  },
  {
   "cell_type": "code",
   "execution_count": 8,
   "metadata": {},
   "outputs": [
    {
     "name": "stdout",
     "output_type": "stream",
     "text": [
      "48\n",
      "[77, 77, 77, 77, 77, 29, 125]\n",
      "56\n",
      "[77, 77, 77, 29, 125, 21, 133]\n",
      "3\n",
      "[77, 77, 29, 125, 21, 136, 74]\n",
      "4\n",
      "[77, 29, 125, 21, 74, 73, 140]\n",
      "12\n",
      "[77, 125, 74, 73, 140, 17, 33]\n",
      "14\n",
      "[77, 125, 73, 17, 33, 60, 154]\n",
      "6\n",
      "[77, 73, 17, 33, 154, 119, 66]\n",
      "59\n",
      "[77, 17, 33, 154, 66, 132, 60]\n",
      "2\n",
      "[17, 33, 66, 132, 60, 79, 152]\n",
      "25\n",
      "[17, 33, 60, 79, 152, 157, 41]\n",
      "32\n",
      "[17, 33, 79, 157, 41, 184, 28]\n",
      "1\n",
      "[17, 33, 157, 41, 184, 80, 27]\n",
      "1\n",
      "[17, 33, 157, 41, 184, 26, 81]\n",
      "35\n",
      "[17, 33, 157, 184, 26, 116, 6]\n",
      "6\n",
      "[17, 157, 26, 116, 6, 27, 190]\n",
      "10\n",
      "[17, 157, 6, 27, 190, 16, 126]\n",
      "125\n",
      "[17, 6, 27, 190, 16, 251, 32]\n",
      "11\n",
      "[17, 6, 27, 190, 16, 262, 21]\n",
      "5\n",
      "[17, 6, 27, 190, 262, 11, 26]\n",
      "43\n",
      "[17, 6, 27, 11, 26, 305, 147]\n",
      "11\n",
      "[17, 6, 27, 26, 305, 0, 158]\n",
      "1\n",
      "[6, 27, 305, 158, 16, 27]\n",
      "4\n",
      "[27, 305, 16, 27, 2, 162]\n",
      "5\n",
      "[305, 27, 2, 162, 21, 22]\n",
      "87\n",
      "[27, 2, 21, 22, 218, 249]\n",
      "1\n",
      "[27, 22, 218, 249, 1, 22]\n",
      "1\n",
      "[22, 218, 249, 22, 28, 0]\n",
      "17\n",
      "[22, 249, 28, 39, 201]\n",
      "31\n",
      "[22, 28, 39, 280, 170]\n",
      "8\n",
      "[39, 280, 170, 20, 30]\n",
      "26\n",
      "[39, 280, 20, 4, 196]\n",
      "186\n",
      "[39, 20, 4, 382, 94]\n",
      "2\n",
      "[39, 382, 94, 22, 2]\n",
      "1\n",
      "[382, 94, 22, 3, 38]\n",
      "3\n",
      "[94, 22, 3, 41, 379]\n",
      "3\n",
      "[22, 41, 379, 91, 6]\n",
      "5\n",
      "[41, 91, 6, 17, 384]\n",
      "3\n",
      "[41, 91, 384, 14, 9]\n",
      "8\n",
      "[384, 14, 9, 33, 99]\n",
      "81\n",
      "[14, 9, 33, 180, 303]\n",
      "150\n",
      "[14, 9, 33, 453, 30]\n",
      "7\n",
      "[14, 33, 453, 23, 16]\n",
      "11\n",
      "[14, 33, 23, 5, 464]\n",
      "6\n",
      "[14, 5, 464, 17, 39]\n",
      "6\n",
      "[5, 464, 17, 20, 33]\n",
      "5\n",
      "[5, 464, 33, 22, 15]\n",
      "2\n",
      "[464, 22, 15, 35, 3]\n",
      "1\n",
      "[22, 15, 35, 4, 463]\n",
      "1\n",
      "[15, 35, 4, 21, 464]\n",
      "9\n",
      "[35, 4, 21, 6, 473]\n",
      "1\n",
      "[35, 6, 473, 22, 3]\n",
      "3\n",
      "[35, 473, 22, 3, 6]\n",
      "2\n",
      "[473, 22, 6, 1, 37]\n",
      "1\n",
      "[473, 22, 6, 0, 38]\n",
      "10\n",
      "[6, 38, 32, 463]\n",
      "22\n",
      "[6, 32, 441, 60]\n",
      "28\n",
      "[6, 441, 60, 32]\n",
      "3\n",
      "[441, 32, 63, 3]\n",
      "2\n",
      "[441, 32, 65, 1]\n",
      "17\n",
      "[32, 1, 48, 458]\n",
      "19\n",
      "[1, 458, 51, 29]\n",
      "1\n",
      "[458, 29, 2, 50]\n",
      "2\n",
      "[458, 50, 0, 31]\n",
      "19\n",
      "[458, 69, 12]\n",
      "3\n",
      "[69, 455, 15]\n",
      "5\n",
      "[455, 64, 20]\n",
      "11\n",
      "[455, 9, 75]\n",
      "12\n",
      "[9, 467, 63]\n",
      "62\n",
      "[9, 125, 405]\n",
      "74\n",
      "[9, 51, 479]\n",
      "29\n",
      "[9, 80, 450]\n",
      "6\n",
      "[80, 456, 3]\n",
      "1\n",
      "[80, 457, 2]\n",
      "1\n",
      "[457, 81, 1]\n",
      "1\n",
      "[81, 2, 456]\n",
      "1\n",
      "[81, 457, 1]\n",
      "1\n",
      "[81, 2, 456]\n",
      "1\n",
      "[456, 3, 80]\n",
      "2\n",
      "[80, 458, 1]\n",
      "1\n",
      "[458, 81, 0]\n",
      "63\n",
      "[18, 521]\n",
      "2\n",
      "[519, 20]\n",
      "12\n",
      "[32, 507]\n",
      "17\n",
      "[49, 490]\n",
      "17\n",
      "[32, 507]\n",
      "26\n",
      "[481, 58]\n",
      "28\n",
      "[30, 509]\n",
      "12\n",
      "[497, 42]\n",
      "14\n",
      "[56, 483]\n",
      "23\n",
      "[460, 79]\n",
      "74\n",
      "[386, 153]\n",
      "76\n",
      "[229, 310]\n",
      "209\n",
      "[20, 519]\n",
      "2\n",
      "[517, 22]\n",
      "9\n",
      "[13, 526]\n",
      "12\n",
      "[1, 538]\n",
      "1\n",
      "[0, 539]\n"
     ]
    }
   ],
   "source": [
    "#Displays the rounds from a single game (out of the for-loop)\n",
    "\n",
    "d = 77\n",
    "p = 7\n",
    "L = [d]*p\n",
    "count = 0\n",
    "Total = []\n",
    "while len(L)>1:\n",
    "    #pick two poeple to play from the list\n",
    "    L2 = [L.pop(random.randrange(len(L))) for _ in range(2)]\n",
    "    #record where those two people are\n",
    "    k = random.randint(1,min(L2))\n",
    "    print(k)\n",
    "    #both players put some money in the pot (bet)\n",
    "    for i in range(len(L2)):\n",
    "        L2[i] = L2[i] - k\n",
    "    #pick a random person to win\n",
    "    index = random.choice(range(len(L2)))\n",
    "    #winner collects his earnings\n",
    "    L2[index] = L2[index] + 2*k\n",
    "    #put those players back in\n",
    "    L = L + L2\n",
    "    print(L)\n",
    "    #zero out this mofo\n",
    "    while 0 in L:\n",
    "        del L[L.index(0)]\n",
    "    #counts the number of rounds\n",
    "    count = count + 1"
   ]
  },
  {
   "cell_type": "code",
   "execution_count": 73,
   "metadata": {},
   "outputs": [],
   "source": [
    "L2 = [L.pop(random.randrange(len(L))) for _ in range(2)]"
   ]
  },
  {
   "cell_type": "code",
   "execution_count": 59,
   "metadata": {},
   "outputs": [
    {
     "data": {
      "text/plain": [
       "[20, 20]"
      ]
     },
     "execution_count": 59,
     "metadata": {},
     "output_type": "execute_result"
    }
   ],
   "source": [
    "L2"
   ]
  },
  {
   "cell_type": "code",
   "execution_count": 74,
   "metadata": {},
   "outputs": [],
   "source": [
    "for i in range(len(L2)):\n",
    "    L2[i] = L2[i]- 3"
   ]
  },
  {
   "cell_type": "code",
   "execution_count": 75,
   "metadata": {},
   "outputs": [
    {
     "data": {
      "text/plain": [
       "[14, 17]"
      ]
     },
     "execution_count": 75,
     "metadata": {},
     "output_type": "execute_result"
    }
   ],
   "source": [
    "L2"
   ]
  },
  {
   "cell_type": "code",
   "execution_count": 76,
   "metadata": {},
   "outputs": [
    {
     "data": {
      "text/plain": [
       "[20, 20, 20, 20, 17, 17, 17]"
      ]
     },
     "execution_count": 76,
     "metadata": {},
     "output_type": "execute_result"
    }
   ],
   "source": [
    "L"
   ]
  },
  {
   "cell_type": "code",
   "execution_count": 77,
   "metadata": {},
   "outputs": [],
   "source": [
    "L = L + L2"
   ]
  },
  {
   "cell_type": "code",
   "execution_count": 78,
   "metadata": {},
   "outputs": [
    {
     "data": {
      "text/plain": [
       "[20, 20, 20, 20, 17, 17, 17, 14, 17]"
      ]
     },
     "execution_count": 78,
     "metadata": {},
     "output_type": "execute_result"
    }
   ],
   "source": [
    "L"
   ]
  },
  {
   "cell_type": "code",
   "execution_count": null,
   "metadata": {},
   "outputs": [],
   "source": []
  }
 ],
 "metadata": {
  "kernelspec": {
   "display_name": "Python 3",
   "language": "python",
   "name": "python3"
  },
  "language_info": {
   "codemirror_mode": {
    "name": "ipython",
    "version": 3
   },
   "file_extension": ".py",
   "mimetype": "text/x-python",
   "name": "python",
   "nbconvert_exporter": "python",
   "pygments_lexer": "ipython3",
   "version": "3.7.0"
  }
 },
 "nbformat": 4,
 "nbformat_minor": 2
}
