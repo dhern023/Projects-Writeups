{
 "cells": [
  {
   "cell_type": "code",
   "execution_count": 2,
   "metadata": {},
   "outputs": [],
   "source": [
    "import random\n",
    "import numpy"
   ]
  },
  {
   "cell_type": "code",
   "execution_count": 5,
   "metadata": {},
   "outputs": [
    {
     "name": "stdout",
     "output_type": "stream",
     "text": [
      "[0, 0, 1, 0, 0]\n",
      "[1, 0, 0, 0, 0]\n",
      "[0, 0, 0, 1]\n",
      "[0, 1, 0]\n",
      "[0, 0, 1]\n",
      "[1, 0, 0]\n",
      "6\n",
      "[0, 3, 1, 2]\n"
     ]
    }
   ],
   "source": [
    "#simulates one game of Bowser's Big Blast from Mario Party 2\n",
    "#Assumes all players are equally likely to get a bomb.\n",
    "\n",
    "#1 is the bomb \n",
    "L = [0]*4 +[1]\n",
    "#recording the number of players left and the number of rounds\n",
    "player = [0,0,0,0]\n",
    "count = 0\n",
    "while len(L) > 2:\n",
    "    #shuffles the list\n",
    "    random.shuffle(L)\n",
    "    #players 1-4 pick a random number (in order)\n",
    "    choice = random.sample(L,(len(L)-1))\n",
    "    count = count + 1\n",
    "    \n",
    "    #counts the number of players who are left\n",
    "    if len(L) == 5:\n",
    "        player[3] = player[3] + 1\n",
    "    if len(L) == 4:\n",
    "        player[2] = player[2] + 1\n",
    "    if len(L) == 3:\n",
    "        player[1] = player[1] + 1\n",
    "    \n",
    "    print(L)\n",
    "    #As soon as one's pick is a bomb, they lose\n",
    "    if choice.count(1) == 1:\n",
    "        #the number of choices is reduced\n",
    "        del L[L.index(0)]\n",
    "print(count)\n",
    "print(player)"
   ]
  },
  {
   "cell_type": "code",
   "execution_count": 3,
   "metadata": {},
   "outputs": [
    {
     "name": "stdout",
     "output_type": "stream",
     "text": [
      "4.083906\n",
      "[0.       1.499706 1.333588 1.250612]\n"
     ]
    }
   ],
   "source": [
    "#Calculates the expectation of the number of rounds starting with four players\n",
    "\n",
    "#record all of the counts\n",
    "Counts = []\n",
    "Players = []\n",
    "num_iter = 1000000\n",
    "for i in range(num_iter):\n",
    "    #1 is the bomb \n",
    "    L = [0]*4 +[1]\n",
    "    player = [0,0,0,0]\n",
    "    count = 0\n",
    "    while len(L) > 2:\n",
    "        #shuffles the list\n",
    "        random.shuffle(L)\n",
    "        #players 1-4 pick a random number (in order)\n",
    "        choice = random.sample(L,(len(L)-1))\n",
    "        count = count + 1\n",
    "        \n",
    "        #counts the number of players who are left\n",
    "        if len(L) == 5:\n",
    "            player[3] = player[3] + 1\n",
    "        if len(L) == 4:\n",
    "            player[2] = player[2] + 1\n",
    "        if len(L) == 3:\n",
    "            player[1] = player[1] + 1\n",
    "        #if your pick is the bomb\n",
    "        if choice.count(1) == 1:\n",
    "            #the number of choices is reduced \n",
    "            del L[L.index(0)]\n",
    "    Counts.append(count)\n",
    "    Players.append(player)\n",
    "#Prints the expected value\n",
    "print(sum(Counts)/num_iter)\n",
    "\n",
    "#prints the average number of rounds with 4 players remaining, 3 remaining, etc.\n",
    "S = numpy.array([sum(i) for i in zip(*Players)])\n",
    "print(S/num_iter)"
   ]
  },
  {
   "cell_type": "code",
   "execution_count": 18,
   "metadata": {},
   "outputs": [
    {
     "data": {
      "text/plain": [
       "14"
      ]
     },
     "execution_count": 18,
     "metadata": {},
     "output_type": "execute_result"
    }
   ],
   "source": [
    "max(Counts)"
   ]
  },
  {
   "cell_type": "code",
   "execution_count": 19,
   "metadata": {},
   "outputs": [
    {
     "data": {
      "text/plain": [
       "3"
      ]
     },
     "execution_count": 19,
     "metadata": {},
     "output_type": "execute_result"
    }
   ],
   "source": [
    "min(Counts)"
   ]
  },
  {
   "cell_type": "code",
   "execution_count": 20,
   "metadata": {},
   "outputs": [
    {
     "name": "stdout",
     "output_type": "stream",
     "text": [
      "[0, 2, 7, 1]\n",
      "[0, 8, 4, 1]\n",
      "[0, 9, 1, 3]\n",
      "[0, 1, 7, 1]\n",
      "[0, 7, 1, 1]\n",
      "[0, 9, 1, 1]\n",
      "[0, 7, 1, 2]\n",
      "[0, 7, 3, 1]\n",
      "[0, 7, 1, 2]\n",
      "[0, 7, 1, 1]\n",
      "[0, 7, 2, 1]\n",
      "[0, 7, 1, 1]\n",
      "[0, 7, 1, 1]\n",
      "[0, 7, 2, 3]\n",
      "[0, 7, 1, 1]\n",
      "[0, 7, 1, 1]\n",
      "[0, 7, 1, 1]\n",
      "[0, 8, 2, 1]\n",
      "[0, 7, 3, 1]\n",
      "[0, 7, 2, 2]\n",
      "[0, 7, 1, 1]\n",
      "[0, 7, 1, 1]\n",
      "[0, 7, 1, 2]\n",
      "[0, 8, 1, 1]\n",
      "[0, 7, 1, 1]\n",
      "[0, 7, 2, 2]\n",
      "[0, 7, 2, 2]\n",
      "[0, 8, 1, 1]\n",
      "[0, 7, 3, 1]\n",
      "[0, 8, 1, 2]\n",
      "[0, 1, 9, 1]\n",
      "[0, 7, 1, 1]\n",
      "[0, 9, 1, 1]\n",
      "[0, 8, 3, 1]\n",
      "[0, 8, 2, 1]\n",
      "[0, 7, 1, 1]\n",
      "[0, 7, 2, 2]\n",
      "[0, 7, 2, 1]\n",
      "[0, 8, 1, 2]\n",
      "[0, 7, 1, 2]\n",
      "[0, 8, 2, 1]\n",
      "[0, 9, 1, 1]\n",
      "[0, 9, 2, 2]\n",
      "[0, 7, 1, 1]\n",
      "[0, 7, 1, 1]\n",
      "[0, 7, 1, 1]\n",
      "[0, 1, 1, 7]\n",
      "[0, 7, 1, 2]\n",
      "[0, 8, 1, 1]\n",
      "[0, 2, 7, 1]\n",
      "[0, 7, 1, 1]\n",
      "[0, 7, 1, 2]\n",
      "[0, 8, 3, 1]\n",
      "[0, 1, 7, 1]\n",
      "[0, 7, 2, 1]\n",
      "[0, 7, 1, 1]\n",
      "[0, 9, 1, 1]\n",
      "[0, 10, 1, 1]\n",
      "[0, 7, 1, 1]\n",
      "[0, 7, 1, 1]\n",
      "[0, 7, 1, 1]\n",
      "[0, 1, 7, 1]\n",
      "[0, 7, 1, 1]\n",
      "[0, 7, 1, 1]\n",
      "[0, 7, 1, 1]\n",
      "[0, 7, 1, 3]\n",
      "[0, 7, 1, 1]\n",
      "[0, 7, 3, 2]\n",
      "[0, 7, 1, 1]\n",
      "[0, 7, 3, 1]\n",
      "[0, 8, 1, 1]\n",
      "[0, 1, 7, 1]\n",
      "[0, 7, 1, 2]\n",
      "[0, 7, 1, 1]\n",
      "[0, 1, 1, 7]\n",
      "[0, 7, 1, 1]\n",
      "[0, 7, 3, 1]\n",
      "[0, 8, 1, 1]\n",
      "[0, 8, 1, 1]\n",
      "[0, 10, 1, 2]\n",
      "[0, 7, 1, 1]\n",
      "[0, 7, 1, 1]\n",
      "[0, 7, 1, 2]\n",
      "[0, 7, 1, 1]\n",
      "[0, 5, 7, 1]\n",
      "[0, 1, 7, 1]\n",
      "[0, 1, 7, 1]\n",
      "[0, 2, 7, 1]\n",
      "[0, 7, 1, 1]\n",
      "[0, 7, 1, 1]\n",
      "[0, 7, 2, 1]\n",
      "[0, 8, 2, 1]\n",
      "[0, 7, 1, 2]\n",
      "[0, 7, 1, 1]\n",
      "[0, 9, 1, 1]\n",
      "[0, 7, 1, 2]\n",
      "[0, 7, 1, 1]\n",
      "[0, 7, 1, 2]\n",
      "[0, 7, 2, 1]\n",
      "[0, 4, 9, 1]\n",
      "[0, 7, 2, 1]\n",
      "[0, 1, 7, 2]\n",
      "[0, 7, 1, 1]\n",
      "[0, 3, 7, 2]\n",
      "[0, 2, 9, 1]\n",
      "[0, 1, 7, 1]\n",
      "[0, 10, 2, 1]\n",
      "[0, 7, 1, 1]\n",
      "[0, 7, 2, 1]\n",
      "[0, 9, 1, 1]\n",
      "[0, 1, 5, 7]\n",
      "[0, 1, 7, 3]\n",
      "[0, 7, 1, 1]\n",
      "[0, 7, 1, 1]\n",
      "[0, 1, 8, 2]\n",
      "[0, 7, 1, 1]\n",
      "[0, 7, 1, 1]\n",
      "[0, 7, 1, 1]\n",
      "[0, 9, 1, 1]\n",
      "[0, 7, 1, 1]\n",
      "[0, 8, 1, 1]\n",
      "[0, 7, 1, 1]\n",
      "[0, 10, 1, 1]\n",
      "[0, 7, 4, 1]\n",
      "[0, 7, 1, 2]\n",
      "[0, 7, 2, 2]\n",
      "[0, 7, 1, 1]\n",
      "[0, 7, 1, 1]\n",
      "[0, 8, 1, 1]\n",
      "[0, 7, 1, 1]\n",
      "[0, 1, 7, 3]\n",
      "[0, 7, 2, 1]\n",
      "[0, 7, 1, 1]\n",
      "[0, 8, 1, 1]\n",
      "[0, 7, 1, 1]\n",
      "[0, 7, 1, 1]\n",
      "[0, 2, 7, 1]\n",
      "[0, 1, 8, 1]\n",
      "[0, 7, 1, 1]\n",
      "[0, 7, 1, 1]\n",
      "[0, 8, 1, 1]\n",
      "[0, 7, 1, 1]\n",
      "[0, 7, 2, 1]\n",
      "[0, 8, 1, 2]\n",
      "[0, 8, 2, 1]\n",
      "[0, 9, 3, 1]\n",
      "[0, 1, 7, 1]\n",
      "[0, 7, 2, 1]\n",
      "[0, 7, 1, 3]\n",
      "[0, 8, 2, 1]\n",
      "[0, 9, 1, 1]\n",
      "[0, 8, 1, 3]\n",
      "[0, 7, 1, 1]\n",
      "[0, 7, 1, 1]\n",
      "[0, 9, 1, 1]\n",
      "[0, 7, 1, 2]\n",
      "[0, 10, 1, 1]\n",
      "[0, 1, 8, 1]\n",
      "[0, 2, 1, 7]\n",
      "[0, 7, 1, 1]\n",
      "[0, 8, 1, 1]\n",
      "[0, 7, 1, 1]\n",
      "[0, 7, 1, 1]\n",
      "[0, 7, 1, 1]\n",
      "[0, 4, 7, 1]\n",
      "[0, 9, 1, 1]\n",
      "[0, 7, 1, 1]\n",
      "[0, 7, 1, 1]\n",
      "[0, 7, 2, 1]\n",
      "[0, 8, 1, 2]\n",
      "[0, 3, 7, 1]\n",
      "[0, 7, 2, 1]\n",
      "[0, 8, 1, 1]\n",
      "[0, 7, 1, 2]\n",
      "[0, 9, 1, 2]\n",
      "[0, 7, 1, 1]\n",
      "[0, 1, 7, 1]\n",
      "[0, 1, 2, 7]\n",
      "[0, 3, 7, 1]\n",
      "[0, 7, 1, 1]\n",
      "[0, 7, 1, 1]\n",
      "[0, 7, 1, 1]\n",
      "[0, 7, 1, 2]\n",
      "[0, 7, 1, 1]\n",
      "[0, 8, 1, 1]\n",
      "[0, 8, 1, 1]\n",
      "[0, 3, 8, 1]\n",
      "[0, 9, 1, 1]\n",
      "188\n"
     ]
    }
   ],
   "source": [
    "games = 0\n",
    "for i in range(len(Players)):\n",
    "    if max(Players[i]) > 6:\n",
    "        print(Players[i])\n",
    "        games = games + 1\n",
    "print(games)"
   ]
  },
  {
   "cell_type": "code",
   "execution_count": 13,
   "metadata": {},
   "outputs": [
    {
     "data": {
      "text/plain": [
       "[0, 1, 1, 1]"
      ]
     },
     "execution_count": 13,
     "metadata": {},
     "output_type": "execute_result"
    }
   ],
   "source": [
    "min(Players)"
   ]
  },
  {
   "cell_type": "code",
   "execution_count": null,
   "metadata": {},
   "outputs": [],
   "source": []
  }
 ],
 "metadata": {
  "kernelspec": {
   "display_name": "Python 3",
   "language": "python",
   "name": "python3"
  },
  "language_info": {
   "codemirror_mode": {
    "name": "ipython",
    "version": 3
   },
   "file_extension": ".py",
   "mimetype": "text/x-python",
   "name": "python",
   "nbconvert_exporter": "python",
   "pygments_lexer": "ipython3",
   "version": "3.6.5"
  }
 },
 "nbformat": 4,
 "nbformat_minor": 2
}
